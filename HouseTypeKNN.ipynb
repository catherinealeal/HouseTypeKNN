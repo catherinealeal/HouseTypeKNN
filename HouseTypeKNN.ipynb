{
 "cells": [
  {
   "cell_type": "markdown",
   "id": "10ba6e8f",
   "metadata": {},
   "source": [
    "# Predict Housing Type using K-Nearest Neighbors "
   ]
  },
  {
   "cell_type": "code",
   "execution_count": 1,
   "id": "0d984831",
   "metadata": {},
   "outputs": [],
   "source": [
    "import pandas as pd\n",
    "import numpy as np\n",
    "import matplotlib.pyplot as plt\n",
    "import time\n",
    "import calendar"
   ]
  },
  {
   "cell_type": "markdown",
   "id": "f34f8bb8",
   "metadata": {},
   "source": [
    "## Goal \n",
    "Use the k-nearest neighbors algorithm to predict the housing type of homes in Melbourne. Also decide the best k-value that yields the highest accuracy and whether to implement weighted or majority voting. "
   ]
  },
  {
   "cell_type": "markdown",
   "id": "07869219",
   "metadata": {},
   "source": [
    "## Data Loading"
   ]
  },
  {
   "cell_type": "code",
   "execution_count": 3,
   "id": "05164ea4",
   "metadata": {},
   "outputs": [],
   "source": [
    "df_melb = pd.read_csv('https://gist.githubusercontent.com/yanyanzheng96/81b236aecee57f6cf65e60afd865d2bb/raw/56ddb53aa90c26ab1bdbfd0b8d8229c8d08ce45a/melb_data_train.csv')"
   ]
  },
  {
   "cell_type": "markdown",
   "id": "84ac2127",
   "metadata": {},
   "source": [
    "## Fix a column of data to be numeric\n",
    "\n",
    "The column \"Date\" is an object, so we need to convert it to seconds since epoch to be useful. "
   ]
  },
  {
   "cell_type": "code",
   "execution_count": 4,
   "id": "4aa7d7a5",
   "metadata": {},
   "outputs": [],
   "source": [
    "# normalize date accepts the date string as shown in the df_melb 'Date' column,\n",
    "# and returns a data in a standarized format\n",
    "def standardize_date(d):\n",
    "    split = d.split('/')\n",
    "    dateStr = split[0] + ' ' + split[1] + ' '\n",
    "    if len(split[2]) == 2:\n",
    "        dateStr += split[2]\n",
    "    else:\n",
    "        yearSplit = list(split[2])\n",
    "        dateStr += yearSplit[2]\n",
    "        dateStr += yearSplit[3]\n",
    "    return dateStr"
   ]
  },
  {
   "cell_type": "code",
   "execution_count": 5,
   "id": "6d4abee0",
   "metadata": {},
   "outputs": [
    {
     "name": "stdout",
     "output_type": "stream",
     "text": [
      "The min unixtime is 1454565600 and the max unixtime is 1506142800\n"
     ]
    }
   ],
   "source": [
    "df_melb['Date'] = df_melb['Date'].apply( lambda x : standardize_date(x)) \n",
    "\n",
    "df_melb['unixtime'] = df_melb['Date'].apply(lambda x: int(time.mktime(time.strptime(x, \"%d %m %y\"))))\n",
    "df_melb = df_melb.drop(columns=\"Date\")\n",
    "\n",
    "print(\"The min unixtime is {:d} and the max unixtime is {:d}\".format(df_melb['unixtime'].min(),df_melb['unixtime'].max()))"
   ]
  },
  {
   "cell_type": "markdown",
   "id": "740b3c6f",
   "metadata": {},
   "source": [
    "## Use Imputation to fill in missing values\n",
    "- Use the mean of each column to fill in missing values. \n",
    "- Save the mean of each column in a dictionary, dict_imputation, whose key is the attribute column name, so we can apply the same imputation to the test set later."
   ]
  },
  {
   "cell_type": "code",
   "execution_count": 6,
   "id": "1420dd7f",
   "metadata": {},
   "outputs": [],
   "source": [
    "target_col = 'Type'"
   ]
  },
  {
   "cell_type": "code",
   "execution_count": 7,
   "id": "1310c177",
   "metadata": {},
   "outputs": [],
   "source": [
    "dict_imputation = dict()\n",
    "for col in df_melb.columns:\n",
    "    if col != target_col:\n",
    "        dict_imputation[col] = df_melb[col].mean()\n",
    "df_melb.fillna(value=dict_imputation, inplace=True)"
   ]
  },
  {
   "cell_type": "code",
   "execution_count": 8,
   "id": "eff25f27",
   "metadata": {},
   "outputs": [
    {
     "data": {
      "text/plain": [
       "{'Rooms': 2.71,\n",
       " 'Price': 932558.7,\n",
       " 'Distance': 10.5246,\n",
       " 'Postcode': 3113.122,\n",
       " 'Bathroom': 1.44,\n",
       " 'Car': 1.503006012024048,\n",
       " 'Landsize': 638.91,\n",
       " 'BuildingArea': 121.78320000000001,\n",
       " 'YearBuilt': 1970.9417475728155,\n",
       " 'unixtime': 1485197193.6}"
      ]
     },
     "execution_count": 8,
     "metadata": {},
     "output_type": "execute_result"
    }
   ],
   "source": [
    "dict_imputation"
   ]
  },
  {
   "cell_type": "code",
   "execution_count": 9,
   "id": "6ecf0d85",
   "metadata": {},
   "outputs": [
    {
     "data": {
      "text/html": [
       "<div>\n",
       "<style scoped>\n",
       "    .dataframe tbody tr th:only-of-type {\n",
       "        vertical-align: middle;\n",
       "    }\n",
       "\n",
       "    .dataframe tbody tr th {\n",
       "        vertical-align: top;\n",
       "    }\n",
       "\n",
       "    .dataframe thead th {\n",
       "        text-align: right;\n",
       "    }\n",
       "</style>\n",
       "<table border=\"1\" class=\"dataframe\">\n",
       "  <thead>\n",
       "    <tr style=\"text-align: right;\">\n",
       "      <th></th>\n",
       "      <th>Rooms</th>\n",
       "      <th>Type</th>\n",
       "      <th>Price</th>\n",
       "      <th>Distance</th>\n",
       "      <th>Postcode</th>\n",
       "      <th>Bathroom</th>\n",
       "      <th>Car</th>\n",
       "      <th>Landsize</th>\n",
       "      <th>BuildingArea</th>\n",
       "      <th>YearBuilt</th>\n",
       "      <th>unixtime</th>\n",
       "    </tr>\n",
       "  </thead>\n",
       "  <tbody>\n",
       "    <tr>\n",
       "      <th>0</th>\n",
       "      <td>2</td>\n",
       "      <td>h</td>\n",
       "      <td>399000</td>\n",
       "      <td>8.7</td>\n",
       "      <td>3032</td>\n",
       "      <td>1</td>\n",
       "      <td>1.0</td>\n",
       "      <td>904</td>\n",
       "      <td>53.0000</td>\n",
       "      <td>1985.000000</td>\n",
       "      <td>1462597200</td>\n",
       "    </tr>\n",
       "    <tr>\n",
       "      <th>1</th>\n",
       "      <td>3</td>\n",
       "      <td>h</td>\n",
       "      <td>1241000</td>\n",
       "      <td>13.9</td>\n",
       "      <td>3165</td>\n",
       "      <td>1</td>\n",
       "      <td>1.0</td>\n",
       "      <td>643</td>\n",
       "      <td>121.7832</td>\n",
       "      <td>1970.941748</td>\n",
       "      <td>1472360400</td>\n",
       "    </tr>\n",
       "    <tr>\n",
       "      <th>2</th>\n",
       "      <td>2</td>\n",
       "      <td>u</td>\n",
       "      <td>550000</td>\n",
       "      <td>3.0</td>\n",
       "      <td>3067</td>\n",
       "      <td>1</td>\n",
       "      <td>1.0</td>\n",
       "      <td>1521</td>\n",
       "      <td>121.7832</td>\n",
       "      <td>1970.941748</td>\n",
       "      <td>1499490000</td>\n",
       "    </tr>\n",
       "    <tr>\n",
       "      <th>3</th>\n",
       "      <td>3</td>\n",
       "      <td>u</td>\n",
       "      <td>691000</td>\n",
       "      <td>8.4</td>\n",
       "      <td>3072</td>\n",
       "      <td>1</td>\n",
       "      <td>1.0</td>\n",
       "      <td>170</td>\n",
       "      <td>121.7832</td>\n",
       "      <td>1970.941748</td>\n",
       "      <td>1498280400</td>\n",
       "    </tr>\n",
       "    <tr>\n",
       "      <th>4</th>\n",
       "      <td>2</td>\n",
       "      <td>u</td>\n",
       "      <td>657500</td>\n",
       "      <td>4.6</td>\n",
       "      <td>3122</td>\n",
       "      <td>1</td>\n",
       "      <td>1.0</td>\n",
       "      <td>728</td>\n",
       "      <td>73.0000</td>\n",
       "      <td>1965.000000</td>\n",
       "      <td>1479535200</td>\n",
       "    </tr>\n",
       "  </tbody>\n",
       "</table>\n",
       "</div>"
      ],
      "text/plain": [
       "   Rooms Type    Price  Distance  Postcode  Bathroom  Car  Landsize  \\\n",
       "0      2    h   399000       8.7      3032         1  1.0       904   \n",
       "1      3    h  1241000      13.9      3165         1  1.0       643   \n",
       "2      2    u   550000       3.0      3067         1  1.0      1521   \n",
       "3      3    u   691000       8.4      3072         1  1.0       170   \n",
       "4      2    u   657500       4.6      3122         1  1.0       728   \n",
       "\n",
       "   BuildingArea    YearBuilt    unixtime  \n",
       "0       53.0000  1985.000000  1462597200  \n",
       "1      121.7832  1970.941748  1472360400  \n",
       "2      121.7832  1970.941748  1499490000  \n",
       "3      121.7832  1970.941748  1498280400  \n",
       "4       73.0000  1965.000000  1479535200  "
      ]
     },
     "execution_count": 9,
     "metadata": {},
     "output_type": "execute_result"
    }
   ],
   "source": [
    "df_melb.head()"
   ]
  },
  {
   "cell_type": "markdown",
   "id": "d1e46720",
   "metadata": {},
   "source": [
    "## Normalize all the attributes to be between [0,1]"
   ]
  },
  {
   "cell_type": "code",
   "execution_count": 10,
   "id": "8df7c2a0",
   "metadata": {},
   "outputs": [],
   "source": [
    "dict_normalize = dict()\n",
    "for col in df_melb.columns:\n",
    "    if col != target_col:\n",
    "        colSeries = df_melb[col]\n",
    "        colMin = colSeries.min()\n",
    "        colMax = colSeries.max()\n",
    "        \n",
    "        dict_normalize[col] = (colMin, colMax)\n",
    "        \n",
    "        df_melb[col] = (colSeries - colMin) / (colMax - colMin)"
   ]
  },
  {
   "cell_type": "code",
   "execution_count": 11,
   "id": "9ad244c3",
   "metadata": {},
   "outputs": [
    {
     "data": {
      "text/plain": [
       "{'Rooms': (1, 6),\n",
       " 'Price': (291000, 5020000),\n",
       " 'Distance': (0.7, 47.3),\n",
       " 'Postcode': (3002, 3810),\n",
       " 'Bathroom': (0, 4),\n",
       " 'Car': (0.0, 4.0),\n",
       " 'Landsize': (0, 41400),\n",
       " 'BuildingArea': (0.0, 475.0),\n",
       " 'YearBuilt': (1890.0, 2015.0),\n",
       " 'unixtime': (1454565600, 1506142800)}"
      ]
     },
     "execution_count": 11,
     "metadata": {},
     "output_type": "execute_result"
    }
   ],
   "source": [
    "dict_normalize"
   ]
  },
  {
   "cell_type": "code",
   "execution_count": 12,
   "id": "e604cedb",
   "metadata": {},
   "outputs": [
    {
     "data": {
      "text/html": [
       "<div>\n",
       "<style scoped>\n",
       "    .dataframe tbody tr th:only-of-type {\n",
       "        vertical-align: middle;\n",
       "    }\n",
       "\n",
       "    .dataframe tbody tr th {\n",
       "        vertical-align: top;\n",
       "    }\n",
       "\n",
       "    .dataframe thead th {\n",
       "        text-align: right;\n",
       "    }\n",
       "</style>\n",
       "<table border=\"1\" class=\"dataframe\">\n",
       "  <thead>\n",
       "    <tr style=\"text-align: right;\">\n",
       "      <th></th>\n",
       "      <th>Rooms</th>\n",
       "      <th>Type</th>\n",
       "      <th>Price</th>\n",
       "      <th>Distance</th>\n",
       "      <th>Postcode</th>\n",
       "      <th>Bathroom</th>\n",
       "      <th>Car</th>\n",
       "      <th>Landsize</th>\n",
       "      <th>BuildingArea</th>\n",
       "      <th>YearBuilt</th>\n",
       "      <th>unixtime</th>\n",
       "    </tr>\n",
       "  </thead>\n",
       "  <tbody>\n",
       "    <tr>\n",
       "      <th>0</th>\n",
       "      <td>0.2</td>\n",
       "      <td>h</td>\n",
       "      <td>0.022838</td>\n",
       "      <td>0.171674</td>\n",
       "      <td>0.037129</td>\n",
       "      <td>0.25</td>\n",
       "      <td>0.25</td>\n",
       "      <td>0.021836</td>\n",
       "      <td>0.111579</td>\n",
       "      <td>0.760000</td>\n",
       "      <td>0.155720</td>\n",
       "    </tr>\n",
       "    <tr>\n",
       "      <th>1</th>\n",
       "      <td>0.4</td>\n",
       "      <td>h</td>\n",
       "      <td>0.200888</td>\n",
       "      <td>0.283262</td>\n",
       "      <td>0.201733</td>\n",
       "      <td>0.25</td>\n",
       "      <td>0.25</td>\n",
       "      <td>0.015531</td>\n",
       "      <td>0.256386</td>\n",
       "      <td>0.647534</td>\n",
       "      <td>0.345013</td>\n",
       "    </tr>\n",
       "    <tr>\n",
       "      <th>2</th>\n",
       "      <td>0.2</td>\n",
       "      <td>u</td>\n",
       "      <td>0.054768</td>\n",
       "      <td>0.049356</td>\n",
       "      <td>0.080446</td>\n",
       "      <td>0.25</td>\n",
       "      <td>0.25</td>\n",
       "      <td>0.036739</td>\n",
       "      <td>0.256386</td>\n",
       "      <td>0.647534</td>\n",
       "      <td>0.871013</td>\n",
       "    </tr>\n",
       "    <tr>\n",
       "      <th>3</th>\n",
       "      <td>0.4</td>\n",
       "      <td>u</td>\n",
       "      <td>0.084584</td>\n",
       "      <td>0.165236</td>\n",
       "      <td>0.086634</td>\n",
       "      <td>0.25</td>\n",
       "      <td>0.25</td>\n",
       "      <td>0.004106</td>\n",
       "      <td>0.256386</td>\n",
       "      <td>0.647534</td>\n",
       "      <td>0.847561</td>\n",
       "    </tr>\n",
       "    <tr>\n",
       "      <th>4</th>\n",
       "      <td>0.2</td>\n",
       "      <td>u</td>\n",
       "      <td>0.077501</td>\n",
       "      <td>0.083691</td>\n",
       "      <td>0.148515</td>\n",
       "      <td>0.25</td>\n",
       "      <td>0.25</td>\n",
       "      <td>0.017585</td>\n",
       "      <td>0.153684</td>\n",
       "      <td>0.600000</td>\n",
       "      <td>0.484121</td>\n",
       "    </tr>\n",
       "  </tbody>\n",
       "</table>\n",
       "</div>"
      ],
      "text/plain": [
       "   Rooms Type     Price  Distance  Postcode  Bathroom   Car  Landsize  \\\n",
       "0    0.2    h  0.022838  0.171674  0.037129      0.25  0.25  0.021836   \n",
       "1    0.4    h  0.200888  0.283262  0.201733      0.25  0.25  0.015531   \n",
       "2    0.2    u  0.054768  0.049356  0.080446      0.25  0.25  0.036739   \n",
       "3    0.4    u  0.084584  0.165236  0.086634      0.25  0.25  0.004106   \n",
       "4    0.2    u  0.077501  0.083691  0.148515      0.25  0.25  0.017585   \n",
       "\n",
       "   BuildingArea  YearBuilt  unixtime  \n",
       "0      0.111579   0.760000  0.155720  \n",
       "1      0.256386   0.647534  0.345013  \n",
       "2      0.256386   0.647534  0.871013  \n",
       "3      0.256386   0.647534  0.847561  \n",
       "4      0.153684   0.600000  0.484121  "
      ]
     },
     "execution_count": 12,
     "metadata": {},
     "output_type": "execute_result"
    }
   ],
   "source": [
    "df_melb.head()"
   ]
  },
  {
   "cell_type": "markdown",
   "id": "b3fe4c1c",
   "metadata": {},
   "source": [
    "## Load in the Test data and prepare it for classification"
   ]
  },
  {
   "cell_type": "code",
   "execution_count": 13,
   "id": "6a586b55",
   "metadata": {},
   "outputs": [],
   "source": [
    "# load data \n",
    "df_test = pd.read_csv('https://gist.githubusercontent.com/yanyanzheng96/c3d53303cebbd986b166591d19254bac/raw/94eb3b2d500d5f7bbc0441a8419cd855349d5d8e/melb_data_test.csv')"
   ]
  },
  {
   "cell_type": "code",
   "execution_count": 14,
   "id": "93f2804b",
   "metadata": {},
   "outputs": [
    {
     "name": "stdout",
     "output_type": "stream",
     "text": [
      "The min unixtime is 1454565600 and the max unixtime is 1506142800\n"
     ]
    }
   ],
   "source": [
    "# fix date\n",
    "df_test['Date'] = df_test['Date'].apply(lambda x : standardize_date(x))\n",
    "df_test['unixtime'] = df_test['Date'].apply(lambda x: int(time.mktime(time.strptime(x, \"%d %m %y\"))))\n",
    "df_test = df_test.drop(columns='Date')\n",
    "print(\"The min unixtime is {:d} and the max unixtime is {:d}\".format(df_test['unixtime'].min(),df_test['unixtime'].max()))"
   ]
  },
  {
   "cell_type": "code",
   "execution_count": 15,
   "id": "457c3ffe",
   "metadata": {},
   "outputs": [
    {
     "data": {
      "text/html": [
       "<div>\n",
       "<style scoped>\n",
       "    .dataframe tbody tr th:only-of-type {\n",
       "        vertical-align: middle;\n",
       "    }\n",
       "\n",
       "    .dataframe tbody tr th {\n",
       "        vertical-align: top;\n",
       "    }\n",
       "\n",
       "    .dataframe thead th {\n",
       "        text-align: right;\n",
       "    }\n",
       "</style>\n",
       "<table border=\"1\" class=\"dataframe\">\n",
       "  <thead>\n",
       "    <tr style=\"text-align: right;\">\n",
       "      <th></th>\n",
       "      <th>Rooms</th>\n",
       "      <th>Type</th>\n",
       "      <th>Price</th>\n",
       "      <th>Distance</th>\n",
       "      <th>Postcode</th>\n",
       "      <th>Bathroom</th>\n",
       "      <th>Car</th>\n",
       "      <th>Landsize</th>\n",
       "      <th>BuildingArea</th>\n",
       "      <th>YearBuilt</th>\n",
       "      <th>unixtime</th>\n",
       "    </tr>\n",
       "  </thead>\n",
       "  <tbody>\n",
       "    <tr>\n",
       "      <th>0</th>\n",
       "      <td>3</td>\n",
       "      <td>h</td>\n",
       "      <td>1116000</td>\n",
       "      <td>17.9</td>\n",
       "      <td>3192</td>\n",
       "      <td>1</td>\n",
       "      <td>2.0</td>\n",
       "      <td>610</td>\n",
       "      <td>121.7832</td>\n",
       "      <td>1970.941748</td>\n",
       "      <td>1498885200</td>\n",
       "    </tr>\n",
       "    <tr>\n",
       "      <th>1</th>\n",
       "      <td>3</td>\n",
       "      <td>h</td>\n",
       "      <td>2030000</td>\n",
       "      <td>11.2</td>\n",
       "      <td>3186</td>\n",
       "      <td>2</td>\n",
       "      <td>2.0</td>\n",
       "      <td>366</td>\n",
       "      <td>121.7832</td>\n",
       "      <td>1970.941748</td>\n",
       "      <td>1472360400</td>\n",
       "    </tr>\n",
       "    <tr>\n",
       "      <th>2</th>\n",
       "      <td>3</td>\n",
       "      <td>h</td>\n",
       "      <td>1480000</td>\n",
       "      <td>10.7</td>\n",
       "      <td>3187</td>\n",
       "      <td>2</td>\n",
       "      <td>2.0</td>\n",
       "      <td>697</td>\n",
       "      <td>143.0000</td>\n",
       "      <td>1925.000000</td>\n",
       "      <td>1478498400</td>\n",
       "    </tr>\n",
       "    <tr>\n",
       "      <th>3</th>\n",
       "      <td>3</td>\n",
       "      <td>u</td>\n",
       "      <td>1203500</td>\n",
       "      <td>12.3</td>\n",
       "      <td>3166</td>\n",
       "      <td>2</td>\n",
       "      <td>2.0</td>\n",
       "      <td>311</td>\n",
       "      <td>127.0000</td>\n",
       "      <td>2000.000000</td>\n",
       "      <td>1495861200</td>\n",
       "    </tr>\n",
       "    <tr>\n",
       "      <th>4</th>\n",
       "      <td>3</td>\n",
       "      <td>h</td>\n",
       "      <td>540000</td>\n",
       "      <td>14.7</td>\n",
       "      <td>3030</td>\n",
       "      <td>2</td>\n",
       "      <td>2.0</td>\n",
       "      <td>353</td>\n",
       "      <td>135.0000</td>\n",
       "      <td>2011.000000</td>\n",
       "      <td>1504414800</td>\n",
       "    </tr>\n",
       "  </tbody>\n",
       "</table>\n",
       "</div>"
      ],
      "text/plain": [
       "   Rooms Type    Price  Distance  Postcode  Bathroom  Car  Landsize  \\\n",
       "0      3    h  1116000      17.9      3192         1  2.0       610   \n",
       "1      3    h  2030000      11.2      3186         2  2.0       366   \n",
       "2      3    h  1480000      10.7      3187         2  2.0       697   \n",
       "3      3    u  1203500      12.3      3166         2  2.0       311   \n",
       "4      3    h   540000      14.7      3030         2  2.0       353   \n",
       "\n",
       "   BuildingArea    YearBuilt    unixtime  \n",
       "0      121.7832  1970.941748  1498885200  \n",
       "1      121.7832  1970.941748  1472360400  \n",
       "2      143.0000  1925.000000  1478498400  \n",
       "3      127.0000  2000.000000  1495861200  \n",
       "4      135.0000  2011.000000  1504414800  "
      ]
     },
     "execution_count": 15,
     "metadata": {},
     "output_type": "execute_result"
    }
   ],
   "source": [
    "# imputation using above dictionary \n",
    "df_test.fillna(value=dict_imputation, inplace=True)\n",
    "df_test.head() "
   ]
  },
  {
   "cell_type": "code",
   "execution_count": 16,
   "id": "2ce97299",
   "metadata": {},
   "outputs": [
    {
     "data": {
      "text/html": [
       "<div>\n",
       "<style scoped>\n",
       "    .dataframe tbody tr th:only-of-type {\n",
       "        vertical-align: middle;\n",
       "    }\n",
       "\n",
       "    .dataframe tbody tr th {\n",
       "        vertical-align: top;\n",
       "    }\n",
       "\n",
       "    .dataframe thead th {\n",
       "        text-align: right;\n",
       "    }\n",
       "</style>\n",
       "<table border=\"1\" class=\"dataframe\">\n",
       "  <thead>\n",
       "    <tr style=\"text-align: right;\">\n",
       "      <th></th>\n",
       "      <th>Rooms</th>\n",
       "      <th>Type</th>\n",
       "      <th>Price</th>\n",
       "      <th>Distance</th>\n",
       "      <th>Postcode</th>\n",
       "      <th>Bathroom</th>\n",
       "      <th>Car</th>\n",
       "      <th>Landsize</th>\n",
       "      <th>BuildingArea</th>\n",
       "      <th>YearBuilt</th>\n",
       "      <th>unixtime</th>\n",
       "    </tr>\n",
       "  </thead>\n",
       "  <tbody>\n",
       "    <tr>\n",
       "      <th>0</th>\n",
       "      <td>0.4</td>\n",
       "      <td>h</td>\n",
       "      <td>0.174455</td>\n",
       "      <td>0.369099</td>\n",
       "      <td>0.235149</td>\n",
       "      <td>0.25</td>\n",
       "      <td>0.5</td>\n",
       "      <td>0.014734</td>\n",
       "      <td>0.256386</td>\n",
       "      <td>0.647534</td>\n",
       "      <td>0.859287</td>\n",
       "    </tr>\n",
       "    <tr>\n",
       "      <th>1</th>\n",
       "      <td>0.4</td>\n",
       "      <td>h</td>\n",
       "      <td>0.367731</td>\n",
       "      <td>0.225322</td>\n",
       "      <td>0.227723</td>\n",
       "      <td>0.50</td>\n",
       "      <td>0.5</td>\n",
       "      <td>0.008841</td>\n",
       "      <td>0.256386</td>\n",
       "      <td>0.647534</td>\n",
       "      <td>0.345013</td>\n",
       "    </tr>\n",
       "    <tr>\n",
       "      <th>2</th>\n",
       "      <td>0.4</td>\n",
       "      <td>h</td>\n",
       "      <td>0.251427</td>\n",
       "      <td>0.214592</td>\n",
       "      <td>0.228960</td>\n",
       "      <td>0.50</td>\n",
       "      <td>0.5</td>\n",
       "      <td>0.016836</td>\n",
       "      <td>0.301053</td>\n",
       "      <td>0.280000</td>\n",
       "      <td>0.464019</td>\n",
       "    </tr>\n",
       "    <tr>\n",
       "      <th>3</th>\n",
       "      <td>0.4</td>\n",
       "      <td>u</td>\n",
       "      <td>0.192958</td>\n",
       "      <td>0.248927</td>\n",
       "      <td>0.202970</td>\n",
       "      <td>0.50</td>\n",
       "      <td>0.5</td>\n",
       "      <td>0.007512</td>\n",
       "      <td>0.267368</td>\n",
       "      <td>0.880000</td>\n",
       "      <td>0.800656</td>\n",
       "    </tr>\n",
       "    <tr>\n",
       "      <th>4</th>\n",
       "      <td>0.4</td>\n",
       "      <td>h</td>\n",
       "      <td>0.052654</td>\n",
       "      <td>0.300429</td>\n",
       "      <td>0.034653</td>\n",
       "      <td>0.50</td>\n",
       "      <td>0.5</td>\n",
       "      <td>0.008527</td>\n",
       "      <td>0.284211</td>\n",
       "      <td>0.968000</td>\n",
       "      <td>0.966497</td>\n",
       "    </tr>\n",
       "  </tbody>\n",
       "</table>\n",
       "</div>"
      ],
      "text/plain": [
       "   Rooms Type     Price  Distance  Postcode  Bathroom  Car  Landsize  \\\n",
       "0    0.4    h  0.174455  0.369099  0.235149      0.25  0.5  0.014734   \n",
       "1    0.4    h  0.367731  0.225322  0.227723      0.50  0.5  0.008841   \n",
       "2    0.4    h  0.251427  0.214592  0.228960      0.50  0.5  0.016836   \n",
       "3    0.4    u  0.192958  0.248927  0.202970      0.50  0.5  0.007512   \n",
       "4    0.4    h  0.052654  0.300429  0.034653      0.50  0.5  0.008527   \n",
       "\n",
       "   BuildingArea  YearBuilt  unixtime  \n",
       "0      0.256386   0.647534  0.859287  \n",
       "1      0.256386   0.647534  0.345013  \n",
       "2      0.301053   0.280000  0.464019  \n",
       "3      0.267368   0.880000  0.800656  \n",
       "4      0.284211   0.968000  0.966497  "
      ]
     },
     "execution_count": 16,
     "metadata": {},
     "output_type": "execute_result"
    }
   ],
   "source": [
    "# scaling using dictionary from above\n",
    "for col in df_test.columns:\n",
    "    if col != target_col:\n",
    "        mini = dict_normalize[col][0]\n",
    "        maxi = dict_normalize[col][1]\n",
    "        df_test[col] = (df_test[col] - mini) / (maxi - mini)\n",
    "df_test.head()"
   ]
  },
  {
   "cell_type": "markdown",
   "id": "932444de",
   "metadata": {},
   "source": [
    "## Write the kNN classifier function\n",
    "\n",
    "The function knn_class, takes five parameters, the training dataframe (that includes the target column), the hyper parameter k, the name of the target column, a single observation row of the test dataframe, and a boolean use_weighted_vote.  \n",
    "\n",
    "When use_weighted_vote is set to true, weighted voting is implemented, otherwise majority voting is used. \n",
    "\n",
    "The function returns the predicted target classification for that observation. "
   ]
  },
  {
   "cell_type": "code",
   "execution_count": 17,
   "id": "f9ddc1e4",
   "metadata": {},
   "outputs": [],
   "source": [
    "def knn_class(df_train, k, target_col, observation, use_weighted_vote ):\n",
    "    df_X_train = df_train.drop(columns=target_col)\n",
    "    observation_X = observation.drop(target_col)\n",
    "    y = np.array(observation_X)\n",
    "    \n",
    "    dists = []\n",
    "    for idx, row in df_X_train.iterrows():\n",
    "        X = np.array(row)\n",
    "        dists += [np.linalg.norm(X-y)]\n",
    "    \n",
    "    nearest_idxs = np.argsort(dists)[0:k]\n",
    "    nearest_labels = df_train[target_col][nearest_idxs]\n",
    "    predMaj = nearest_labels.mode().tolist()[0]\n",
    "    \n",
    "    if use_weighted_vote is True:\n",
    "        weights = []\n",
    "        for idx in nearest_idxs:\n",
    "            weights.append(1 / dists[idx])\n",
    "        weighted_nearest_labels = pd.concat([nearest_labels.reset_index(drop=True), pd.Series(weights)], axis=1)\n",
    "        weighted_freq = weighted_nearest_labels.groupby('Type').sum()\n",
    "        predWeight = list(weighted_freq.idxmax())[0]\n",
    "        return predWeight\n",
    "    \n",
    "    return predMaj"
   ]
  },
  {
   "cell_type": "markdown",
   "id": "4442d8fa",
   "metadata": {},
   "source": [
    "## Compute the accuracy using different k values\n",
    "\n",
    "For each value of k in the set {1,3,13,25,50,100}, calculate the class prediction for each oberservation in the test set, and the overall accuracy of the classifier. Plot the accuracy as a function of k when use_weighted_vote is True and when use_weighted_vote is False."
   ]
  },
  {
   "cell_type": "code",
   "execution_count": 18,
   "id": "b250d118",
   "metadata": {},
   "outputs": [],
   "source": [
    "poss_k = [1,3,13,25,50,100] # possible k's\n",
    "acc_k_majority = list(np.zeros(len(poss_k))) # Accuracy for each value of k using majority voting\n",
    "acc_k_weighted = list(np.zeros(len(poss_k))) # Accuracy for each value of k using weighted voting\n",
    "\n",
    "total = len(df_test)\n",
    "k_idx = 0\n",
    "for k in poss_k:\n",
    "    correctPredMaj = 0\n",
    "    correctPredWeight = 0\n",
    "    \n",
    "    for idx, row in df_test.iterrows():\n",
    "        predictionMaj = knn_class(df_melb, k, target_col, row, False)\n",
    "        predictionWeight = knn_class(df_melb, k, target_col, row, True)\n",
    "        \n",
    "        if predictionMaj == row[target_col]:\n",
    "            correctPredMaj += 1\n",
    "        if predictionWeight == row[target_col]:\n",
    "            correctPredWeight += 1\n",
    "    \n",
    "    acc_k_majority[k_idx] = (correctPredMaj / total)\n",
    "    acc_k_weighted[k_idx] = (correctPredWeight / total)\n",
    "    \n",
    "    k_idx += 1"
   ]
  },
  {
   "cell_type": "code",
   "execution_count": 19,
   "id": "160548a4",
   "metadata": {},
   "outputs": [
    {
     "data": {
      "image/png": "[encoded data removed]",
      "text/plain": [
       "<Figure size 640x480 with 1 Axes>"
      ]
     },
     "metadata": {},
     "output_type": "display_data"
    }
   ],
   "source": [
    "plt.plot(poss_k, acc_k_majority, label='Majority Voting');\\\n",
    "plt.plot(poss_k, acc_k_weighted, label='Weighted Voting')\n",
    "plt.xlabel('K-value')\n",
    "plt.ylabel('Accuracy')\n",
    "plt.title('Comparing the accuracy of majority and weighted voting for various k-values')\n",
    "plt.legend()\n",
    "plt.show()"
   ]
  },
  {
   "cell_type": "markdown",
   "id": "8732ea13",
   "metadata": {},
   "source": [
    "## Conclusion\n",
    "- I would chose k = 25 and a weighted voting scheme because these parameters yield the highest accuracy of predictions, as seen by the orange peak in the plot. \n",
    "- Weighted voting is generally more accurate because it takes into account the distance from each point to the target variable, so it makes sense that the weighted voting accuracies would be higher than those of the majority voting. \n",
    "- Increasing the k-value has pros and cons. While increasing k does make the prediction more robust to noise, it may cause some trends in the data to be overlooked. We can tell from the downward trend of the plot after k=25 that considering more points actually misinforms the prediction, so ideally, 25 neighbors should be considered. "
   ]
  }
 ],
 "metadata": {
  "kernelspec": {
   "display_name": "Python 3 (ipykernel)",
   "language": "python",
   "name": "python3"
  },
  "language_info": {
   "codemirror_mode": {
    "name": "ipython",
    "version": 3
   },
   "file_extension": ".py",
   "mimetype": "text/x-python",
   "name": "python",
   "nbconvert_exporter": "python",
   "pygments_lexer": "ipython3",
   "version": "3.9.13"
  }
 },
 "nbformat": 4,
 "nbformat_minor": 5
}
